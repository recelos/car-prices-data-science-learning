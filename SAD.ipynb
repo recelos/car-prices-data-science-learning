{
  "cells": [
    {
      "cell_type": "markdown",
      "metadata": {},
      "source": [
        "# Car Prices Data Science Learning"
      ]
    },
    {
      "cell_type": "markdown",
      "metadata": {},
      "source": [
        "In this project we use dataset from [Kaggle](https://www.kaggle.com/datasets/syedanwarafridi/vehicle-sales-data)."
      ]
    },
    {
      "cell_type": "markdown",
      "metadata": {},
      "source": [
        "## Imports and loading data"
      ]
    },
    {
      "cell_type": "code",
      "execution_count": null,
      "metadata": {
        "colab": {
          "base_uri": "https://localhost:8080/"
        },
        "id": "HsndRak_0iLw",
        "outputId": "63d9f66a-ab4a-40a8-9458-cd421423bf4a"
      },
      "outputs": [],
      "source": [
        "import pandas as pd\n",
        "import numpy as np\n",
        "from matplotlib import pyplot as plt\n",
        "from sklearn.preprocessing import MinMaxScaler\n",
        "import seaborn as sb\n",
        "import plotly.express as px\n",
        "import plotly.graph_objects as go\n",
        "from plotly.subplots import make_subplots\n",
        "import geopandas as gpd\n",
        "from sklearn.preprocessing import StandardScaler\n",
        "from sklearn.manifold import TSNE\n",
        "import xgboost as xgb\n",
        "from sklearn.model_selection import train_test_split, cross_val_score, KFold\n",
        "from sklearn.metrics import mean_squared_error\n",
        "from sklearn.preprocessing import StandardScaler\n",
        "from sklearn.metrics import r2_score\n",
        "from sklearn.linear_model import LinearRegression"
      ]
    },
    {
      "cell_type": "code",
      "execution_count": null,
      "metadata": {
        "colab": {
          "base_uri": "https://localhost:8080/"
        },
        "id": "EPrfVUYZI6I4",
        "outputId": "7f451cd2-4278-4ea2-a4d8-d5d09423f816"
      },
      "outputs": [],
      "source": [
        "df = pd.read_csv('car_prices.csv')\n",
        "print(df.head())"
      ]
    },
    {
      "cell_type": "code",
      "execution_count": null,
      "metadata": {
        "id": "IMT2aI14KkY1"
      },
      "outputs": [],
      "source": [
        "print(df.info())"
      ]
    },
    {
      "cell_type": "code",
      "execution_count": null,
      "metadata": {},
      "outputs": [],
      "source": [
        "print(df.describe())"
      ]
    },
    {
      "cell_type": "markdown",
      "metadata": {},
      "source": [
        "## Clearing"
      ]
    },
    {
      "cell_type": "code",
      "execution_count": null,
      "metadata": {},
      "outputs": [],
      "source": [
        "nan_counts = df.isna().sum()\n",
        "print(nan_counts)"
      ]
    },
    {
      "cell_type": "code",
      "execution_count": null,
      "metadata": {},
      "outputs": [],
      "source": [
        "df['model'].value_counts(dropna=False)"
      ]
    },
    {
      "cell_type": "code",
      "execution_count": null,
      "metadata": {},
      "outputs": [],
      "source": [
        "df.nunique()"
      ]
    },
    {
      "cell_type": "code",
      "execution_count": null,
      "metadata": {},
      "outputs": [],
      "source": [
        "print(df['color'].unique())"
      ]
    },
    {
      "cell_type": "code",
      "execution_count": null,
      "metadata": {},
      "outputs": [],
      "source": [
        "df = df.drop_duplicates()"
      ]
    },
    {
      "cell_type": "code",
      "execution_count": null,
      "metadata": {},
      "outputs": [],
      "source": [
        "df = df.loc[df['color'] != '—']"
      ]
    },
    {
      "cell_type": "code",
      "execution_count": null,
      "metadata": {},
      "outputs": [],
      "source": [
        "df = df.dropna()\n",
        "print(df.isna().sum())"
      ]
    },
    {
      "cell_type": "code",
      "execution_count": null,
      "metadata": {},
      "outputs": [],
      "source": [
        "df.dtypes"
      ]
    },
    {
      "cell_type": "markdown",
      "metadata": {},
      "source": [
        "## Scaling (Normalization)"
      ]
    },
    {
      "cell_type": "code",
      "execution_count": null,
      "metadata": {},
      "outputs": [],
      "source": [
        "df1 = df[['year', 'condition', 'odometer', 'mmr', 'sellingprice']]\n",
        "scaler = MinMaxScaler()\n",
        "scaler.fit(df1)\n",
        "print(scaler.data_max_)\n",
        "print(scaler.transform(df1))\n",
        "\n",
        "scaled_data = scaler.fit_transform(df1)\n",
        "\n",
        "df2 = pd.DataFrame(scaled_data, columns=df1.columns)\n",
        "\n",
        "print(df2)\n"
      ]
    },
    {
      "cell_type": "markdown",
      "metadata": {},
      "source": [
        "## Data Visualization (Matplotlib)"
      ]
    },
    {
      "cell_type": "code",
      "execution_count": null,
      "metadata": {},
      "outputs": [],
      "source": [
        "df['color'].value_counts().plot.bar()"
      ]
    },
    {
      "cell_type": "code",
      "execution_count": null,
      "metadata": {},
      "outputs": [],
      "source": [
        "counts = df['make'].value_counts()\n",
        "top_counts = counts.head(20)\n",
        "top_counts.plot.bar()"
      ]
    },
    {
      "cell_type": "code",
      "execution_count": null,
      "metadata": {},
      "outputs": [],
      "source": [
        "df_ford = df.loc[df['make'] == 'Ford']\n",
        "ford_colors = df_ford['color'].value_counts()\n",
        "\n",
        "df_chev = df.loc[df['make'] == 'Chevrolet']\n",
        "chev_colors = df_chev['color'].value_counts()\n",
        "\n",
        "colors_comparison = pd.DataFrame(data={'Ford': ford_colors, 'Chevrolet': chev_colors})\n",
        "colors_comparison.plot.bar()\n",
        "# print(colors_comparison)"
      ]
    },
    {
      "cell_type": "markdown",
      "metadata": {},
      "source": [
        "## Data Visualization (Seaborn)"
      ]
    },
    {
      "cell_type": "code",
      "execution_count": null,
      "metadata": {},
      "outputs": [],
      "source": [
        "df_sb = df[['year', 'make', 'sellingprice']]\n",
        "selected_makes = ['Chevrolet', 'Lexus', 'Mazda']\n",
        "df_sb = df_sb[df_sb['make'].isin(selected_makes)]\n",
        "df_avg_price = df_sb.groupby(['make', 'year'])['sellingprice'].mean().reset_index()\n",
        "df_avg_price"
      ]
    },
    {
      "cell_type": "code",
      "execution_count": null,
      "metadata": {},
      "outputs": [],
      "source": [
        "sb.set_style(\"whitegrid\")\n",
        "\n",
        "plt.figure(figsize=(12, 8))\n",
        "sb.pointplot(data=df_avg_price, x='year', y='sellingprice', hue='make', dodge=False, markers='o', linestyles='--')\n",
        "plt.title('Point Plot for Sales Prices by Year and Brand')\n",
        "plt.xlabel('Year')\n",
        "plt.ylabel('Selling Price')\n",
        "plt.xticks(rotation=45)\n",
        "plt.legend(title='Make', bbox_to_anchor=(1.05, 1), loc='upper left')\n",
        "plt.tight_layout()\n",
        "plt.show()"
      ]
    },
    {
      "cell_type": "code",
      "execution_count": null,
      "metadata": {},
      "outputs": [],
      "source": [
        "total_counts = df['make'].value_counts()\n",
        "\n",
        "top_three_makes = total_counts.nlargest(3).index\n",
        "\n",
        "filtered_data = df[df['make'].isin(top_three_makes)]\n",
        "\n",
        "df_count = filtered_data.groupby(['year', 'make']).size().reset_index(name='count')\n",
        "\n",
        "sb.set_style(\"whitegrid\")\n",
        "\n",
        "plt.figure(figsize=(12, 8))\n",
        "sb.pointplot(data=df_count, x='year', y='count', hue='make', dodge=True, markers='o', linestyles='--')\n",
        "plt.title('Point Plot for Car Counts by Year for Top 3 Brands')\n",
        "plt.xlabel('Year')\n",
        "plt.ylabel('Count of Cars')\n",
        "plt.xticks(rotation=45)\n",
        "plt.legend(title='Make', bbox_to_anchor=(1.05, 1), loc='upper left')\n",
        "plt.tight_layout()\n",
        "plt.show()"
      ]
    },
    {
      "cell_type": "markdown",
      "metadata": {},
      "source": [
        "## Pie charts"
      ]
    },
    {
      "cell_type": "code",
      "execution_count": null,
      "metadata": {},
      "outputs": [],
      "source": [
        "fig = make_subplots(rows=1, cols=2, specs=[[{'type':'domain'}, {'type':'domain'}]], subplot_titles=('Transmission type', 'Brand'))\n",
        "\n",
        "fig.add_trace(go.Pie(values=df['transmission'].value_counts(), \n",
        "                     labels=df['transmission'].unique(),\n",
        "                     marker=dict(colors=px.colors.sequential.Bluered),\n",
        "                     textposition='inside',\n",
        "                     textinfo='percent+label+value',\n",
        "                     textfont_size=12,\n",
        "                     showlegend=False),\n",
        "                     1, 1)\n",
        "\n",
        "fig.add_trace(go.Pie(values=df['make'].value_counts(), \n",
        "                     labels=df['make'].unique(),\n",
        "                     marker=dict(colors=px.colors.sequential.RdBu),\n",
        "                     textposition='inside',\n",
        "                     textinfo='percent+label',\n",
        "                     textfont_size=12,\n",
        "                     showlegend=True),\n",
        "                     1, 2)\n",
        "\n",
        "\n",
        "fig.show()\n"
      ]
    },
    {
      "cell_type": "code",
      "execution_count": null,
      "metadata": {},
      "outputs": [],
      "source": [
        "manual_cars = df[df['transmission'] == 'manual']\n",
        "\n",
        "fig = make_subplots(rows=1, cols=1, specs=[[{'type':'domain'}]])\n",
        "\n",
        "fig.add_trace(go.Pie(values=manual_cars['make'].value_counts(), \n",
        "                     labels=manual_cars['make'].value_counts().index,\n",
        "                     marker=dict(colors=px.colors.sequential.RdBu),\n",
        "                     textposition='inside',\n",
        "                     textinfo='percent+label',\n",
        "                     textfont_size=12,\n",
        "                     showlegend=True),\n",
        "                     1, 1)\n",
        "\n",
        "fig.update_layout(title_text='Market share by brand among manual transmission cars')\n",
        "\n",
        "fig.show()"
      ]
    },
    {
      "cell_type": "markdown",
      "metadata": {},
      "source": [
        "## Scatter plot"
      ]
    },
    {
      "cell_type": "code",
      "execution_count": null,
      "metadata": {},
      "outputs": [],
      "source": [
        "sb.scatterplot(df, x=\"odometer\", y=\"sellingprice\")\n",
        "plt.xlabel(\"Odometer [km]\")\n",
        "plt.ylabel(\"Selling Price[$]\")\n",
        "plt.title(\"Selling Price vs. Odometer Reading\")\n",
        "plt.grid(True)\n",
        "\n",
        "plt.show()"
      ]
    },
    {
      "cell_type": "code",
      "execution_count": null,
      "metadata": {},
      "outputs": [],
      "source": [
        "sb.scatterplot(df, x=\"mmr\", y=\"sellingprice\")\n",
        "plt.xlabel(\"MMR\")\n",
        "plt.ylabel(\"Selling Price[$]\")\n",
        "plt.title(\"Selling Price vs. MMR\")\n",
        "plt.grid(True)\n",
        "\n",
        "plt.show()"
      ]
    },
    {
      "cell_type": "code",
      "execution_count": null,
      "metadata": {},
      "outputs": [],
      "source": [
        "fig, ax = plt.subplots(1, 2, figsize=(12, 5))\n",
        "\n",
        "sb.scatterplot(df, x=\"mmr\", y=\"sellingprice\", ax=ax[0])\n",
        "sb.scatterplot(df, x=\"odometer\", y=\"sellingprice\", ax=ax[1])\n",
        "\n",
        "plt.xlabel(\"MMR\")\n",
        "plt.ylabel(\"Selling Price[$]\")\n",
        "plt.xlabel(\"Odometer [km]\")\n",
        "plt.ylabel(\"Selling Price[$]\")\n",
        "plt.suptitle(\"Selling Price vs. MMR and Odometer\")\n",
        "plt.tight_layout()\n",
        "\n",
        "plt.show()"
      ]
    },
    {
      "cell_type": "markdown",
      "metadata": {},
      "source": [
        "## Geo charts\n"
      ]
    },
    {
      "cell_type": "code",
      "execution_count": null,
      "metadata": {},
      "outputs": [],
      "source": [
        "url = \"shapefiles/States_shapefile.shp\"\n",
        "gdf_states = gpd.read_file(url)\n",
        "\n",
        "df_copy = df.copy()\n",
        "\n",
        "df_copy.loc[:, 'state'] = df['state'].str.upper()\n",
        "\n",
        "states = df_copy['state'].value_counts()\n",
        "all_states = gdf_states['State_Code'].unique()\n",
        "\n",
        "brand_counts = df_copy.groupby(['state', 'make']).size().reset_index(name='counts')\n",
        "\n",
        "most_popular_brand = brand_counts.loc[brand_counts.groupby('state')['counts'].idxmax()]\n",
        "\n",
        "merged_data = gdf_states.merge(most_popular_brand, left_on='State_Code', right_on='state', how='left')\n",
        "merged_data['make'] = merged_data['make']\n",
        "\n",
        "fig, ax = plt.subplots(1, 1, figsize=(20, 20))\n",
        "gdf_states.boundary.plot(ax=ax, aspect=1, linewidth=.8, color='black')\n",
        "merged_data.plot(column='make', legend=True, cmap='Set3', ax=ax, aspect=1, missing_kwds={'color': 'lightgray', 'label': 'No Data'})\n",
        "\n",
        "plt.title('Most popular brand in each state')\n",
        "plt.show()"
      ]
    },
    {
      "cell_type": "code",
      "execution_count": null,
      "metadata": {},
      "outputs": [],
      "source": [
        "url = \"shapefiles/States_shapefile.shp\"\n",
        "gdf_states = gpd.read_file(url)\n",
        "\n",
        "df_copy = df.copy()\n",
        "df_copy['state'] = df_copy['state'].str.upper()\n",
        "\n",
        "model_counts = df_copy.groupby(['state', 'make', 'model']).size().reset_index(name='counts')\n",
        "\n",
        "most_popular_model = model_counts.groupby('state').apply(lambda x: x.loc[x['counts'].idxmax()]).reset_index(drop=True)\n",
        "\n",
        "most_popular_model['make_model'] = most_popular_model['make'] + \" \" + most_popular_model['model']\n",
        "\n",
        "merged_data = gdf_states.merge(most_popular_model, left_on='State_Code', right_on='state', how='left')\n",
        "\n",
        "fig, ax = plt.subplots(1, 1, figsize=(20, 20))\n",
        "gdf_states.boundary.plot(ax=ax, aspect=1, linewidth=.8, color='black')\n",
        "merged_data.plot(column='make_model', legend=True, cmap='Set3', ax=ax, aspect=1, missing_kwds={'color': 'lightgray', 'label': 'No Data'})\n",
        "\n",
        "plt.title('Most popular car model in each state')\n",
        "plt.show()"
      ]
    },
    {
      "cell_type": "markdown",
      "metadata": {},
      "source": [
        "## T-distributed Stochastic Neighbor Embedding (t-SNE)"
      ]
    },
    {
      "cell_type": "code",
      "execution_count": null,
      "metadata": {},
      "outputs": [],
      "source": [
        "sample = df.sample(n = 50000, random_state=42)\n",
        "\n",
        "columns = sample[['sellingprice', 'mmr', 'year']]\n",
        "scaler = StandardScaler()\n",
        "data_scaled = scaler.fit_transform(columns)\n",
        "\n",
        "tsne = TSNE(n_components=2, verbose=1, perplexity=30, n_iter=1000)\n",
        "tsne_results = tsne.fit_transform(data_scaled)\n",
        "\n",
        "plt.figure(figsize=(12,8))\n",
        "plt.scatter(tsne_results[:, 0], tsne_results[:, 1], alpha=0.5)\n",
        "plt.xlabel('TSNE Component 1')\n",
        "plt.ylabel('TSNE Component 2')\n",
        "plt.title('t-SNE plot of Selling Price, MMR, and Odometer')\n",
        "plt.show()"
      ]
    },
    {
      "cell_type": "markdown",
      "metadata": {},
      "source": [
        "## XGBoost"
      ]
    },
    {
      "cell_type": "code",
      "execution_count": null,
      "metadata": {},
      "outputs": [],
      "source": [
        "X = df[['year', 'odometer', 'model']]\n",
        "y = df[['sellingprice']]\n",
        "\n",
        "X_cat = pd.get_dummies(X['model'], prefix='model')\n",
        "\n",
        "sc_X = StandardScaler()\n",
        "sc_y = StandardScaler()\n",
        "X.loc[:, ['odometer', 'year']] = sc_X.fit_transform(X[['odometer', 'year']]).astype('float64')\n",
        "y = sc_y.fit_transform(y)\n",
        "\n",
        "X = pd.concat([X[['odometer', 'year']], X_cat], axis=1)\n",
        "\n",
        "print(X)\n",
        "\n",
        "params = {\n",
        "    'objective': 'reg:squarederror',\n",
        "    'max_depth': 3,\n",
        "    'learning_rate': 0.1,\n",
        "    'n_estimators': 100\n",
        "}\n",
        "\n",
        "model = xgb.XGBRegressor(**params)"
      ]
    },
    {
      "cell_type": "markdown",
      "metadata": {},
      "source": [
        "## Cross-validation and training"
      ]
    },
    {
      "cell_type": "code",
      "execution_count": null,
      "metadata": {},
      "outputs": [],
      "source": [
        "kf = KFold(n_splits=5, shuffle=True, random_state=42)\n",
        "cv_scores = cross_val_score(model, X, y, cv=kf, scoring='neg_mean_squared_error')\n",
        "\n",
        "model.fit(X, y)\n",
        "\n",
        "X_train, X_test, y_train, y_test = train_test_split(X, y, test_size=0.2, random_state=42)\n",
        "model.fit(X_train, y_train)\n",
        "\n",
        "y_pred = model.predict(X_test)\n",
        "\n",
        "mse = mean_squared_error(y_test, y_pred)\n",
        "print(f\"Mean Squared Error: {mse}\")\n",
        "\n",
        "print(f\"Mean CV MSE: {-cv_scores.mean()}\")\n",
        "\n",
        "print(f\"Standard Deviation of CV MSE: {cv_scores.std()}\")\n",
        "\n",
        "r2 = r2_score(y_test, y_pred)\n",
        "print(f\"R^2 Score: {r2}\")"
      ]
    },
    {
      "cell_type": "code",
      "execution_count": null,
      "metadata": {},
      "outputs": [],
      "source": [
        "import statsmodels.api as sm\n",
        "from statsmodels.formula.api import ols\n",
        "from statsmodels.stats.api import anova_lm\n",
        "\n",
        "df_anova = df.loc[df['model'] == 'Altima']\n",
        "# df_anova['color'] = df_anova['color'].astype('category')\n",
        "\n",
        "average_price_by_color = df_anova.groupby('color')['sellingprice'].mean()\n",
        "average_price_by_color = average_price_by_color.reset_index()\n",
        "average_price_by_color.rename(columns={'color': 'color', 'sellingprice': 'sellingprice'}, inplace=True)\n",
        "average_price_by_color['color'] = average_price_by_color['color'].astype('category')\n",
        "print(average_price_by_color.dtypes)\n",
        "\n",
        "ANOVAmodel = ols('sellingprice ~ color',data=df_anova)\n",
        "ANOVAmodel = ANOVAmodel.fit()\n",
        "\n",
        "anova_table = anova_lm(ANOVAmodel, typ=1)\n",
        "print(anova_table)"
      ]
    },
    {
      "cell_type": "code",
      "execution_count": null,
      "metadata": {},
      "outputs": [],
      "source": [
        "print(average_price_by_color)\n"
      ]
    },
    {
      "cell_type": "markdown",
      "metadata": {},
      "source": [
        "## Ordinal Least Squares "
      ]
    },
    {
      "cell_type": "code",
      "execution_count": null,
      "metadata": {},
      "outputs": [],
      "source": [
        "X = sm.add_constant(X)\n",
        "X.apply(pd.to_numeric, errors='coerce')\n",
        "ols = sm.OLS(y, np.array(X, dtype=float))\n",
        "results = ols.fit()\n",
        "print(results.summary())\n",
        "\n",
        "print(\"Parameters: \", results.params)\n",
        "print(\"R2: \", results.rsquared)\n",
        "\n",
        "predictions = results.predict()\n",
        "print(predictions)"
      ]
    }
  ],
  "metadata": {
    "colab": {
      "provenance": []
    },
    "kernelspec": {
      "display_name": "Python 3",
      "name": "python3"
    },
    "language_info": {
      "codemirror_mode": {
        "name": "ipython",
        "version": 3
      },
      "file_extension": ".py",
      "mimetype": "text/x-python",
      "name": "python",
      "nbconvert_exporter": "python",
      "pygments_lexer": "ipython3",
      "version": "3.11.4"
    }
  },
  "nbformat": 4,
  "nbformat_minor": 0
}
